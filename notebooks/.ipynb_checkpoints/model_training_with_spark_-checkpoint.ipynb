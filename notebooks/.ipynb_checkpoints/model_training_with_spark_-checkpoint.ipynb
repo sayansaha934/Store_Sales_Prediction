{
  "cells": [
    {
      "cell_type": "code",
      "execution_count": null,
      "metadata": {
        "id": "80RglOb8NmKc"
      },
      "outputs": [],
      "source": [
        "!apt-get install openjdk-8-jdk-headless -qq > /dev/null\n",
        "!wget -q https://dlcdn.apache.org/spark/spark-3.4.1/spark-3.4.1-bin-hadoop3.tgz\n",
        "!tar xf spark-3.4.1-bin-hadoop3.tgz\n",
        "!pip install -q findspark\n",
        "import os\n",
        "os.environ[\"JAVA_HOME\"] = \"/usr/lib/jvm/java-8-openjdk-amd64\"\n",
        "os.environ[\"SPARK_HOME\"] = \"/content/spark-3.4.1-bin-hadoop3\"\n",
        "import findspark\n",
        "findspark.init()"
      ],
      "id": "80RglOb8NmKc"
    },
    {
      "cell_type": "code",
      "execution_count": 2,
      "metadata": {
        "colab": {
          "base_uri": "https://localhost:8080/"
        },
        "id": "ddNBAOSgaeE2",
        "outputId": "a1f10629-3530-46e2-c927-bd2af274986b"
      },
      "outputs": [
        {
          "output_type": "stream",
          "name": "stdout",
          "text": [
            "Mounted at /content/drive\n"
          ]
        }
      ],
      "source": [
        "from google.colab import drive\n",
        "drive.mount('/content/drive')"
      ],
      "id": "ddNBAOSgaeE2"
    },
    {
      "cell_type": "code",
      "execution_count": 6,
      "metadata": {
        "colab": {
          "base_uri": "https://localhost:8080/"
        },
        "id": "-R3LNs0JaW6O",
        "outputId": "9148c3c1-339a-45ea-b32f-50489bd9f630"
      },
      "outputs": [
        {
          "output_type": "stream",
          "name": "stdout",
          "text": [
            "/content/drive/MyDrive/pyspark-store-sales-prediction\n"
          ]
        }
      ],
      "source": [
        "import os\n",
        "ROOT = '/content/drive/MyDrive/pyspark-store-sales-prediction'\n",
        "os.chdir(ROOT)\n",
        "!pwd"
      ],
      "id": "-R3LNs0JaW6O"
    },
    {
      "cell_type": "code",
      "source": [
        "!pip install pyspark\n",
        "!pip install -q findspark"
      ],
      "metadata": {
        "colab": {
          "base_uri": "https://localhost:8080/"
        },
        "id": "0VeB7Wtaic5l",
        "outputId": "ec85a914-5811-4599-a359-7bff11a96e6e"
      },
      "id": "0VeB7Wtaic5l",
      "execution_count": 24,
      "outputs": [
        {
          "output_type": "stream",
          "name": "stdout",
          "text": [
            "Requirement already satisfied: pyspark in /usr/local/lib/python3.10/dist-packages (3.4.1)\n",
            "Requirement already satisfied: py4j==0.10.9.7 in /usr/local/lib/python3.10/dist-packages (from pyspark) (0.10.9.7)\n"
          ]
        }
      ]
    },
    {
      "cell_type": "code",
      "execution_count": 75,
      "metadata": {
        "id": "084524e4-7ff7-41a3-90db-45ede78b03b1"
      },
      "outputs": [],
      "source": [
        "from pyspark.sql import SparkSession\n",
        "from pyspark.sql import functions as F\n",
        "from pyspark.ml.feature import VectorAssembler\n",
        "from pyspark.ml.regression import LinearRegression\n",
        "from pyspark.ml.evaluation import RegressionEvaluator\n",
        "from pyspark.ml.tuning import ParamGridBuilder, TrainValidationSplit\n",
        "from pyspark.sql.types import IntegerType\n",
        "from pyspark.sql.functions import monotonically_increasing_id\n",
        "from pyspark.ml.feature import StringIndexer, OneHotEncoder, OneHotEncoderModel\n",
        "from pyspark.ml.evaluation import ClusteringEvaluator\n",
        "from pyspark.sql.functions import col, isnan, when, count\n",
        "from pyspark.ml import Pipeline, PipelineModel\n",
        "import os\n",
        "import pickle\n",
        "import  numpy as np\n",
        "from pyspark.ml.clustering import KMeans,KMeansModel\n",
        "from pyspark.ml.feature import Imputer, ImputerModel\n",
        "from pyspark.ml.regression import RandomForestRegressor\n",
        "from pyspark.ml.feature import StandardScaler, StandardScalerModel\n",
        "from pyspark.ml.tuning import ParamGridBuilder, CrossValidator\n",
        "from pyspark.ml.evaluation import RegressionEvaluator\n",
        "from xgboost.spark import SparkXGBRegressor\n",
        "import findspark\n",
        "findspark.init()"
      ],
      "id": "084524e4-7ff7-41a3-90db-45ede78b03b1"
    },
    {
      "cell_type": "code",
      "execution_count": 37,
      "metadata": {
        "id": "84d91df5-19be-44ca-aba4-6f06a57df45b"
      },
      "outputs": [],
      "source": [
        "spark = SparkSession.builder.appName(\"store_sales_prediction\").getOrCreate()"
      ],
      "id": "84d91df5-19be-44ca-aba4-6f06a57df45b"
    },
    {
      "cell_type": "code",
      "execution_count": 97,
      "metadata": {
        "id": "39b9d7e0-b39f-40e5-93fb-3701aad9c4d2"
      },
      "outputs": [],
      "source": [
        "def split_dataset(path):\n",
        "  # Load the data into a Spark DataFrame\n",
        "  df = spark.read.csv(path, header=True, inferSchema=True)\n",
        "\n",
        "  # Split the data into training and testing sets\n",
        "  train_df, test_df = df.randomSplit([0.8, 0.2], seed=100)\n",
        "  return train_df,test_df"
      ],
      "id": "39b9d7e0-b39f-40e5-93fb-3701aad9c4d2"
    },
    {
      "cell_type": "code",
      "execution_count": 98,
      "metadata": {
        "id": "67a98e4f-bf74-4b12-8745-c5d03d9b118e"
      },
      "outputs": [],
      "source": [
        "def concat_dataframe(df1, df2):\n",
        "    # Add index column to x_train\n",
        "    df1 = df1.withColumn(\"index\", monotonically_increasing_id())\n",
        "\n",
        "    # Add index column to y_train\n",
        "    df2 = df2.withColumn(\"index\", monotonically_increasing_id())\n",
        "\n",
        "    # Perform an inner join on the index column\n",
        "    df = df1.join(df2, \"index\").drop(\"index\")\n",
        "    return df\n",
        "\n",
        "def modify_columns(df, col_names, extension):\n",
        "    df = df.drop(*col_names)\n",
        "    for col in col_names:\n",
        "        df = df.withColumnRenamed(col + extension, col)\n",
        "    return df\n"
      ],
      "id": "67a98e4f-bf74-4b12-8745-c5d03d9b118e"
    },
    {
      "cell_type": "code",
      "execution_count": 120,
      "metadata": {
        "id": "1643e9f9-7a26-423b-b5af-803cc92e4231"
      },
      "outputs": [],
      "source": [
        "def cluster_data(data, train=True):\n",
        "    # Prepare features using VectorAssembler\n",
        "    feature_cols = [col for col in data.columns if col != 'Item_Outlet_Sales']\n",
        "    vector_assembler = VectorAssembler(inputCols=feature_cols, outputCol=\"features\")\n",
        "    data_with_features = vector_assembler.transform(data)\n",
        "    if train:\n",
        "      silhouette_scores = {}\n",
        "      for i in range(2,3):  # Start from k=2 instead of k=1\n",
        "          kmeans = KMeans().setK(i).setSeed(1)\n",
        "          model = kmeans.fit(data_with_features.repartition(i))\n",
        "\n",
        "          # Compute the Silhouette score\n",
        "          evaluator = ClusteringEvaluator()\n",
        "          predictions = model.transform(data_with_features)\n",
        "          silhouette_score = evaluator.evaluate(predictions)\n",
        "          silhouette_scores[silhouette_score]=i\n",
        "      optimal_cluster = silhouette_scores[max(silhouette_scores.keys())]\n",
        "      cluster_model = KMeans().setK(optimal_cluster).setSeed(1)\n",
        "      cluster_model = cluster_model.fit(data_with_features.repartition(optimal_cluster))\n",
        "      cluster_model.write().overwrite().save('cluster_model')\n",
        "    else:\n",
        "      cluster_model = KMeansModel.load('cluster_model')\n",
        "    data_with_clusters = cluster_model.transform(data_with_features)\n",
        "\n",
        "\n",
        "    data_with_clusters = data_with_clusters.withColumnRenamed('prediction', 'Cluster')\n",
        "    data = data_with_clusters.drop(*feature_cols)\n",
        "\n",
        "    return data"
      ],
      "id": "1643e9f9-7a26-423b-b5af-803cc92e4231"
    },
    {
      "cell_type": "code",
      "execution_count": 119,
      "metadata": {
        "id": "c16e24c6-c6c9-4f30-847b-59d8a6ca89a5"
      },
      "outputs": [],
      "source": [
        "def preprocessing_pipeline(data, train=True):\n",
        "    # data = concat_dataframe(x_train, y_train)\n",
        "\n",
        "\n",
        "    # Dropping unnecessary column\n",
        "    data = data.drop('Item_Type')\n",
        "\n",
        "    ### Editing dataset\n",
        "    data = data.withColumn('Item_Visibility', F.when(data['Item_Visibility'] == 0, None).otherwise(data['Item_Visibility']))\n",
        "\n",
        "    data = data.withColumn('Item_Fat_Content', F.when(\n",
        "        (data['Item_Fat_Content'] == 'low fat') | (data['Item_Fat_Content'] == 'LF'), 'Low Fat'\n",
        "    ).otherwise(F.when(data['Item_Fat_Content'] == 'reg', 'Regular').otherwise(data['Item_Fat_Content'])))\n",
        "\n",
        "    # Apply lambda function on 'Item_Identifier'\n",
        "    item_identifier_udf = F.udf(lambda x: x[:2], F.StringType())\n",
        "    data = data.withColumn('Item_Identifier', item_identifier_udf(data['Item_Identifier']))\n",
        "\n",
        "    # Calculate Outlet_Age and drop Outlet_Establishment_Year\n",
        "    data = data.withColumn('Outlet_Age', (F.lit(2013) - data['Outlet_Establishment_Year']).cast(IntegerType()))\n",
        "    data = data.drop('Outlet_Establishment_Year')\n",
        "\n",
        "    # Update 'Item_Fat_Content' for Item_Identifier==\"NC\"\n",
        "    data = data.withColumn('Item_Fat_Content', F.when(data['Item_Identifier'] == \"NC\", 'Non Edible').otherwise(data['Item_Fat_Content']))\n",
        "    # Encoding categorical values\n",
        "    data = data.withColumn('Outlet_Size', F.when(data['Outlet_Size'] == 'Small', 0)\n",
        "                         .when(data['Outlet_Size'] == 'Medium', 1)\n",
        "                         .when(data['Outlet_Size'] == 'High', 2)\n",
        "                         .otherwise(None))\n",
        "    all_columns=data.columns\n",
        "    # Identify the categorical and numeric columns\n",
        "    categorical_cols = ['Item_Identifier', 'Item_Fat_Content', 'Outlet_Identifier', 'Outlet_Type', 'Outlet_Location_Type']\n",
        "    numeric_cols = [col for col in all_columns if col not in categorical_cols and col != 'Item_Outlet_Sales']\n",
        "\n",
        "    ### Index the categorical columns\n",
        "    if train:\n",
        "        indexers = [StringIndexer(inputCol=col, outputCol=col+'_index', handleInvalid='skip') for col in categorical_cols]\n",
        "        indexer_pipeline = Pipeline(stages=indexers)\n",
        "        indexer_model = indexer_pipeline.fit(data)\n",
        "        indexer_model.write().overwrite().save('indexer_model')\n",
        "    else:\n",
        "        indexer_model = PipelineModel.load('indexer_model')\n",
        "    data = indexer_model.transform(data)\n",
        "    data = modify_columns(data, categorical_cols, '_index')\n",
        "\n",
        "\n",
        "    ### Impute missing values in all columns\n",
        "    imputed_cols = data.columns\n",
        "    if train:\n",
        "        imputer = Imputer(inputCols=imputed_cols, outputCols=[col + '_imputed' for col in data.columns], strategy='mean')\n",
        "        imputer_model = imputer.fit(data)\n",
        "        imputer_model.write().overwrite().save('imputer_model')\n",
        "    else:\n",
        "        imputer_model = ImputerModel.load('imputer_model')\n",
        "    data = imputer_model.transform(data)\n",
        "    data = modify_columns(data, imputed_cols, '_imputed')\n",
        "\n",
        "\n",
        "\n",
        "    ###onehot encodding\n",
        "    if train:\n",
        "        encoder = OneHotEncoder(inputCols=categorical_cols, outputCols=[col + '_encoded' for col in categorical_cols], dropLast=False)\n",
        "        encoder_model = encoder.fit(data)\n",
        "        encoder_model.write().overwrite().save('encoder_model')\n",
        "    else:\n",
        "        encoder_model = OneHotEncoderModel.load('encoder_model')\n",
        "    data = encoder_model.transform(data)\n",
        "    data = modify_columns(data, categorical_cols, '_encoded')\n",
        "\n",
        "    #scaling numerical cols\n",
        "    scaling_cols=['Item_Weight', 'Item_Visibility', 'Item_MRP', 'Outlet_Age']\n",
        "    assembler = VectorAssembler(inputCols=scaling_cols, outputCol=\"features\")\n",
        "    data = assembler.transform(data)\n",
        "    data = data.drop(*scaling_cols)\n",
        "    if train:\n",
        "      scaler = StandardScaler(inputCol=\"features\", outputCol=\"scaled_features\", withStd=True, withMean=True)\n",
        "      scaler_model = scaler.fit(data)\n",
        "      scaler_model.write().overwrite().save('scaler_model')\n",
        "    else:\n",
        "      scaler_model = StandardScalerModel.load('scaler_model')\n",
        "\n",
        "    # Transform the numerical columns using the scaler\n",
        "    data = scaler_model.transform(data)\n",
        "    data = data.drop('features')\n",
        "\n",
        "\n",
        "    if train:\n",
        "      data = cluster_data(data, train=True)\n",
        "    else:\n",
        "      data = cluster_data(data, train=False)\n",
        "    return data"
      ],
      "id": "c16e24c6-c6c9-4f30-847b-59d8a6ca89a5"
    },
    {
      "cell_type": "code",
      "execution_count": 112,
      "metadata": {
        "id": "70efef79-3f1c-4e73-8603-d094f079b43b"
      },
      "outputs": [],
      "source": [
        "def get_best_param_xgb(train_df, test_df):\n",
        "    # Remove the target column from the input feature set.\n",
        "    featuresCols = train_df.columns\n",
        "    featuresCols.remove('Item_Outlet_Sales')\n",
        "\n",
        "    # vectorAssembler combines all feature columns into a single feature vector column, \"rawFeatures\".\n",
        "    vectorAssembler = VectorAssembler(inputCols=featuresCols, outputCol=\"features\")\n",
        "    xgb_regressor = SparkXGBRegressor(num_workers=2, label_col=\"Item_Outlet_Sales\", missing=0.0)\n",
        "\n",
        "    paramGrid = ParamGridBuilder()\\\n",
        "      .addGrid(xgb_regressor.max_depth, [2, 5])\\\n",
        "      .addGrid(xgb_regressor.n_estimators, [10, 100])\\\n",
        "      .build()\n",
        "\n",
        "    # Define an evaluation metric.  The CrossValidator compares the true labels with predicted values for each combination of parameters, and calculates this value to determine the best model.\n",
        "    evaluator = RegressionEvaluator(metricName=\"r2\",\n",
        "                                    labelCol=xgb_regressor.getLabelCol(),\n",
        "                                    predictionCol=xgb_regressor.getPredictionCol())\n",
        "\n",
        "    # Declare the CrossValidator, which performs the model tuning.\n",
        "    cv = CrossValidator(estimator=xgb_regressor, evaluator=evaluator, estimatorParamMaps=paramGrid)\n",
        "\n",
        "    pipeline = Pipeline(stages=[vectorAssembler, cv])\n",
        "    pipelineModel = pipeline.fit(train_df)\n",
        "    predictions = pipelineModel.transform(test_df)\n",
        "    r2 = evaluator.evaluate(predictions)\n",
        "\n",
        "    return pipelineModel, r2\n"
      ],
      "id": "70efef79-3f1c-4e73-8603-d094f079b43b"
    },
    {
      "cell_type": "code",
      "execution_count": 113,
      "metadata": {
        "id": "7d6e8d98-0cd8-49a4-9a04-17db0a8f2387"
      },
      "outputs": [],
      "source": [
        "def get_best_param_rf(train_df, test_df):\n",
        "    # Remove the target column from the input feature set.\n",
        "    featuresCols = train_df.columns\n",
        "    featuresCols.remove('Item_Outlet_Sales')\n",
        "\n",
        "    # vectorAssembler combines all feature columns into a single feature vector column, \"rawFeatures\".\n",
        "    vectorAssembler = VectorAssembler(inputCols=featuresCols, outputCol=\"features\")\n",
        "    rf = RandomForestRegressor(labelCol='Item_Outlet_Sales')\n",
        "\n",
        "    paramGrid = ParamGridBuilder() \\\n",
        "        .addGrid(rf.numTrees, [10,20]) \\\n",
        "        .addGrid(rf.maxDepth, [5, 10]) \\\n",
        "        .build()\n",
        "\n",
        "    # Define an evaluation metric.  The CrossValidator compares the true labels with predicted values for each combination of parameters, and calculates this value to determine the best model.\n",
        "    evaluator = RegressionEvaluator(metricName=\"r2\",\n",
        "                                    labelCol=rf.getLabelCol(),\n",
        "                                    predictionCol=rf.getPredictionCol())\n",
        "\n",
        "    # Declare the CrossValidator, which performs the model tuning.\n",
        "    cv = CrossValidator(estimator=rf, evaluator=evaluator, estimatorParamMaps=paramGrid)\n",
        "\n",
        "    pipeline = Pipeline(stages=[vectorAssembler, cv])\n",
        "    pipelineModel = pipeline.fit(train_df)\n",
        "    predictions = pipelineModel.transform(test_df)\n",
        "    r2 = evaluator.evaluate(predictions)\n",
        "\n",
        "    return pipelineModel, r2"
      ],
      "id": "7d6e8d98-0cd8-49a4-9a04-17db0a8f2387"
    },
    {
      "cell_type": "code",
      "execution_count": 114,
      "metadata": {
        "id": "996jxCkheEex"
      },
      "outputs": [],
      "source": [
        "def process_cluster(cluster_id, train_df, test_df):\n",
        "    train = train_df.filter(train_df['Cluster'] == cluster_id)\n",
        "    test = test_df.filter(test_df['Cluster'] == cluster_id)\n",
        "    train = train.drop('Cluster')\n",
        "    test = test.drop('Cluster')\n",
        "\n",
        "    model_xgb, r2_xgb = get_best_param_xgb(train, test)\n",
        "    model_rf, r2_rf = get_best_param_rf(train, test)\n",
        "\n",
        "    if r2_xgb > r2_rf:\n",
        "        best_model, best_model_name = model_xgb, 'XGB'\n",
        "    else:\n",
        "        best_model, best_model_name = model_rf, 'RF'\n",
        "\n",
        "    print(f'Cluster: {cluster_id}  r2_xgb = {r2_xgb}  r2_rf = {r2_rf}')\n",
        "\n",
        "    if not os.path.isdir('Models'):\n",
        "        os.mkdir('Models')\n",
        "    best_model_path = f'Models/{best_model_name}{cluster_id}'\n",
        "    best_model.write().overwrite().save(best_model_path)\n"
      ],
      "id": "996jxCkheEex"
    },
    {
      "cell_type": "code",
      "execution_count": 115,
      "metadata": {
        "colab": {
          "base_uri": "https://localhost:8080/"
        },
        "id": "3df4051c-ff35-4e13-b557-350611b52d50",
        "outputId": "0893ba20-e5c3-4c04-c5a0-ccb4d6645461"
      },
      "outputs": [
        {
          "output_type": "stream",
          "name": "stdout",
          "text": [
            "+-----------------+-------------------+--------+-----------+-----------------+----------+---------------+----------------+-----------------+-------------+--------------------+--------------------+\n",
            "|      Item_Weight|    Item_Visibility|Item_MRP|Outlet_Size|Item_Outlet_Sales|Outlet_Age|Item_Identifier|Item_Fat_Content|Outlet_Identifier|  Outlet_Type|Outlet_Location_Type|            features|\n",
            "+-----------------+-------------------+--------+-----------+-----------------+----------+---------------+----------------+-----------------+-------------+--------------------+--------------------+\n",
            "|             11.6|0.07027603407617884|141.9154|          0|         992.7078|         9|  (3,[2],[1.0])|   (3,[0],[1.0])|   (10,[5],[1.0])|(4,[0],[1.0])|       (3,[1],[1.0])|[11.6,0.070276034...|\n",
            "|             11.6|0.07027603407617884|141.6154|          0|        3829.0158|        11|  (3,[2],[1.0])|   (3,[0],[1.0])|   (10,[2],[1.0])|(4,[0],[1.0])|       (3,[1],[1.0])|[11.6,0.070276034...|\n",
            "|             11.6|        0.040911824|142.3154|          2|        2552.6772|        26|  (3,[2],[1.0])|   (3,[0],[1.0])|   (10,[0],[1.0])|(4,[0],[1.0])|       (3,[0],[1.0])|[11.6,0.040911824...|\n",
            "|             11.6|        0.041177505|140.3154|          0|        2552.6772|         6|  (3,[2],[1.0])|   (3,[0],[1.0])|   (10,[7],[1.0])|(4,[0],[1.0])|       (3,[1],[1.0])|[11.6,0.041177505...|\n",
            "|             11.6|        0.068535039|143.0154|          0|         283.6308|        15|  (3,[2],[1.0])|   (3,[0],[1.0])|   (10,[8],[1.0])|(4,[1],[1.0])|       (3,[0],[1.0])|[11.6,0.068535039...|\n",
            "|12.84087056330551|        0.039734882|165.7868|          1|         4913.604|        28|  (3,[2],[1.0])|   (3,[1],[1.0])|   (10,[6],[1.0])|(4,[3],[1.0])|       (3,[0],[1.0])|[12.8408705633055...|\n",
            "|12.84087056330551|        0.069909188|163.2868|          0|         491.3604|        28|  (3,[2],[1.0])|   (3,[1],[1.0])|   (10,[9],[1.0])|(4,[1],[1.0])|       (3,[2],[1.0])|[12.8408705633055...|\n",
            "|            19.35|        0.039895009|162.4868|          2|        4422.2436|        26|  (3,[2],[1.0])|   (3,[1],[1.0])|   (10,[0],[1.0])|(4,[0],[1.0])|       (3,[0],[1.0])|[19.35,0.03989500...|\n",
            "|            19.35|        0.039920687|163.3868|          0|        3439.5228|         9|  (3,[2],[1.0])|   (3,[1],[1.0])|   (10,[5],[1.0])|(4,[0],[1.0])|       (3,[1],[1.0])|[19.35,0.03992068...|\n",
            "|            19.35|        0.040154087|164.6868|          0|        1146.5076|         6|  (3,[2],[1.0])|   (3,[1],[1.0])|   (10,[7],[1.0])|(4,[0],[1.0])|       (3,[1],[1.0])|[19.35,0.04015408...|\n",
            "|            19.35|        0.066831682|163.8868|          0|         327.5736|        15|  (3,[2],[1.0])|   (3,[1],[1.0])|   (10,[8],[1.0])|(4,[1],[1.0])|       (3,[0],[1.0])|[19.35,0.06683168...|\n",
            "|12.84087056330551|        0.127308434|186.6924|          1|        7033.5112|        28|  (3,[2],[1.0])|   (3,[1],[1.0])|   (10,[6],[1.0])|(4,[3],[1.0])|       (3,[0],[1.0])|[12.8408705633055...|\n",
            "|             8.27|0.07027603407617884|183.2924|          0|        2406.2012|         6|  (3,[2],[1.0])|   (3,[1],[1.0])|   (10,[7],[1.0])|(4,[0],[1.0])|       (3,[1],[1.0])|[8.27,0.070276034...|\n",
            "|             8.27|        0.127821472|185.9924|          2|         555.2772|        26|  (3,[2],[1.0])|   (3,[1],[1.0])|   (10,[0],[1.0])|(4,[0],[1.0])|       (3,[0],[1.0])|[8.27,0.127821472...|\n",
            "|             8.27|        0.127927931|184.8924|          0|        4442.2176|        16|  (3,[2],[1.0])|   (3,[1],[1.0])|   (10,[1],[1.0])|(4,[0],[1.0])|       (3,[2],[1.0])|[8.27,0.127927931...|\n",
            "|             8.27|        0.128126825|183.6924|          1|        1295.6468|        14|  (3,[2],[1.0])|   (3,[1],[1.0])|   (10,[4],[1.0])|(4,[0],[1.0])|       (3,[2],[1.0])|[8.27,0.128126825...|\n",
            "|             8.27|        0.128449055|186.5924|          1|        4442.2176|         4|  (3,[2],[1.0])|   (3,[1],[1.0])|   (10,[3],[1.0])|(4,[2],[1.0])|       (3,[0],[1.0])|[8.27,0.128449055...|\n",
            "|12.84087056330551|        0.081841136| 190.053|          1|          569.259|        28|  (3,[2],[1.0])|   (3,[0],[1.0])|   (10,[6],[1.0])|(4,[3],[1.0])|       (3,[0],[1.0])|[12.8408705633055...|\n",
            "|             7.39|        0.082170947| 190.953|          2|         2466.789|        26|  (3,[2],[1.0])|   (3,[0],[1.0])|   (10,[0],[1.0])|(4,[0],[1.0])|       (3,[0],[1.0])|[7.39,0.082170947...|\n",
            "|             7.39|        0.082367244| 187.753|          1|         1518.024|        14|  (3,[2],[1.0])|   (3,[0],[1.0])|   (10,[4],[1.0])|(4,[0],[1.0])|       (3,[2],[1.0])|[7.39,0.082367244...|\n",
            "+-----------------+-------------------+--------+-----------+-----------------+----------+---------------+----------------+-----------------+-------------+--------------------+--------------------+\n",
            "only showing top 20 rows\n",
            "\n",
            "+-----------+-----------------+---------------+----------------+-----------------+-------------+--------------------+--------------------+\n",
            "|Outlet_Size|Item_Outlet_Sales|Item_Identifier|Item_Fat_Content|Outlet_Identifier|  Outlet_Type|Outlet_Location_Type|     scaled_features|\n",
            "+-----------+-----------------+---------------+----------------+-----------------+-------------+--------------------+--------------------+\n",
            "|          0|         992.7078|  (3,[2],[1.0])|   (3,[0],[1.0])|   (10,[5],[1.0])|(4,[0],[1.0])|       (3,[1],[1.0])|[-0.2936235502929...|\n",
            "|          0|        3829.0158|  (3,[2],[1.0])|   (3,[0],[1.0])|   (10,[2],[1.0])|(4,[0],[1.0])|       (3,[1],[1.0])|[-0.2936235502929...|\n",
            "|          2|        2552.6772|  (3,[2],[1.0])|   (3,[0],[1.0])|   (10,[0],[1.0])|(4,[0],[1.0])|       (3,[0],[1.0])|[-0.2936235502929...|\n",
            "|          0|        2552.6772|  (3,[2],[1.0])|   (3,[0],[1.0])|   (10,[7],[1.0])|(4,[0],[1.0])|       (3,[1],[1.0])|[-0.2936235502929...|\n",
            "|          0|         283.6308|  (3,[2],[1.0])|   (3,[0],[1.0])|   (10,[8],[1.0])|(4,[1],[1.0])|       (3,[0],[1.0])|[-0.2936235502929...|\n",
            "|          1|         4913.604|  (3,[2],[1.0])|   (3,[1],[1.0])|   (10,[6],[1.0])|(4,[3],[1.0])|       (3,[0],[1.0])|[-2.5640379624550...|\n",
            "|          0|         491.3604|  (3,[2],[1.0])|   (3,[1],[1.0])|   (10,[9],[1.0])|(4,[1],[1.0])|       (3,[2],[1.0])|[-2.5640379624550...|\n",
            "|          2|        4422.2436|  (3,[2],[1.0])|   (3,[1],[1.0])|   (10,[0],[1.0])|(4,[0],[1.0])|       (3,[0],[1.0])|[1.54023614632880...|\n",
            "|          0|        3439.5228|  (3,[2],[1.0])|   (3,[1],[1.0])|   (10,[5],[1.0])|(4,[0],[1.0])|       (3,[1],[1.0])|[1.54023614632880...|\n",
            "|          0|        1146.5076|  (3,[2],[1.0])|   (3,[1],[1.0])|   (10,[7],[1.0])|(4,[0],[1.0])|       (3,[1],[1.0])|[1.54023614632880...|\n",
            "|          0|         327.5736|  (3,[2],[1.0])|   (3,[1],[1.0])|   (10,[8],[1.0])|(4,[1],[1.0])|       (3,[0],[1.0])|[1.54023614632880...|\n",
            "|          1|        7033.5112|  (3,[2],[1.0])|   (3,[1],[1.0])|   (10,[6],[1.0])|(4,[3],[1.0])|       (3,[0],[1.0])|[-2.5640379624550...|\n",
            "|          0|        2406.2012|  (3,[2],[1.0])|   (3,[1],[1.0])|   (10,[7],[1.0])|(4,[0],[1.0])|       (3,[1],[1.0])|[-1.0815916521962...|\n",
            "|          2|         555.2772|  (3,[2],[1.0])|   (3,[1],[1.0])|   (10,[0],[1.0])|(4,[0],[1.0])|       (3,[0],[1.0])|[-1.0815916521962...|\n",
            "|          0|        4442.2176|  (3,[2],[1.0])|   (3,[1],[1.0])|   (10,[1],[1.0])|(4,[0],[1.0])|       (3,[2],[1.0])|[-1.0815916521962...|\n",
            "|          1|        1295.6468|  (3,[2],[1.0])|   (3,[1],[1.0])|   (10,[4],[1.0])|(4,[0],[1.0])|       (3,[2],[1.0])|[-1.0815916521962...|\n",
            "|          1|        4442.2176|  (3,[2],[1.0])|   (3,[1],[1.0])|   (10,[3],[1.0])|(4,[2],[1.0])|       (3,[0],[1.0])|[-1.0815916521962...|\n",
            "|          1|          569.259|  (3,[2],[1.0])|   (3,[0],[1.0])|   (10,[6],[1.0])|(4,[3],[1.0])|       (3,[0],[1.0])|[-2.5640379624550...|\n",
            "|          2|         2466.789|  (3,[2],[1.0])|   (3,[0],[1.0])|   (10,[0],[1.0])|(4,[0],[1.0])|       (3,[0],[1.0])|[-1.2898234629094...|\n",
            "|          1|         1518.024|  (3,[2],[1.0])|   (3,[0],[1.0])|   (10,[4],[1.0])|(4,[0],[1.0])|       (3,[2],[1.0])|[-1.2898234629094...|\n",
            "+-----------+-----------------+---------------+----------------+-----------------+-------------+--------------------+--------------------+\n",
            "only showing top 20 rows\n",
            "\n",
            "+-----------------+-------------------+--------+-----------+-----------------+----------+---------------+----------------+-----------------+-------------+--------------------+--------------------+\n",
            "|      Item_Weight|    Item_Visibility|Item_MRP|Outlet_Size|Item_Outlet_Sales|Outlet_Age|Item_Identifier|Item_Fat_Content|Outlet_Identifier|  Outlet_Type|Outlet_Location_Type|            features|\n",
            "+-----------------+-------------------+--------+-----------+-----------------+----------+---------------+----------------+-----------------+-------------+--------------------+--------------------+\n",
            "|             11.6|        0.041112694|142.0154|          1|         850.8924|         4|  (3,[2],[1.0])|   (3,[0],[1.0])|   (10,[3],[1.0])|(4,[2],[1.0])|       (3,[0],[1.0])|[11.6,0.041112694...|\n",
            "|            19.35|        0.039990314|165.0868|          1|         982.7208|        14|  (3,[2],[1.0])|   (3,[1],[1.0])|   (10,[4],[1.0])|(4,[0],[1.0])|       (3,[2],[1.0])|[19.35,0.03999031...|\n",
            "|12.84087056330551|        0.223985293|186.2924|          0|         555.2772|        28|  (3,[2],[1.0])|   (3,[1],[1.0])|   (10,[9],[1.0])|(4,[1],[1.0])|       (3,[2],[1.0])|[12.8408705633055...|\n",
            "|             8.27|        0.214125129|183.9924|          0|         185.0924|        15|  (3,[2],[1.0])|   (3,[1],[1.0])|   (10,[8],[1.0])|(4,[1],[1.0])|       (3,[0],[1.0])|[8.27,0.214125129...|\n",
            "|            6.115|        0.007043008| 190.353|          0|          569.259|         9|  (3,[2],[1.0])|   (3,[1],[1.0])|   (10,[5],[1.0])|(4,[0],[1.0])|       (3,[1],[1.0])|[6.115,0.00704300...|\n",
            "|            8.785|        0.020573334|156.4656|          0|        2162.5184|         9|  (3,[2],[1.0])|   (3,[0],[1.0])|   (10,[5],[1.0])|(4,[0],[1.0])|       (3,[1],[1.0])|[8.785,0.02057333...|\n",
            "|             12.3|        0.069401919|107.9938|          2|        2036.6822|        26|  (3,[2],[1.0])|   (3,[0],[1.0])|   (10,[0],[1.0])|(4,[0],[1.0])|       (3,[0],[1.0])|[12.3,0.069401919...|\n",
            "|             12.3|        0.069446588|106.3938|          0|         857.5504|         9|  (3,[2],[1.0])|   (3,[0],[1.0])|   (10,[5],[1.0])|(4,[0],[1.0])|       (3,[1],[1.0])|[12.3,0.069446588...|\n",
            "|             12.3|        0.069852615|107.4938|          0|        2358.2636|         6|  (3,[2],[1.0])|   (3,[0],[1.0])|   (10,[7],[1.0])|(4,[0],[1.0])|       (3,[1],[1.0])|[12.3,0.069852615...|\n",
            "|             12.3|        0.116261335|107.0938|          0|         214.3876|        15|  (3,[2],[1.0])|   (3,[0],[1.0])|   (10,[8],[1.0])|(4,[1],[1.0])|       (3,[0],[1.0])|[12.3,0.116261335...|\n",
            "|            16.75|0.07027603407617884| 39.3822|          0|         353.5398|        16|  (3,[2],[1.0])|   (3,[1],[1.0])|   (10,[1],[1.0])|(4,[0],[1.0])|       (3,[2],[1.0])|[16.75,0.07027603...|\n",
            "|            16.75|        0.024832806| 38.7822|          2|         667.7974|        26|  (3,[2],[1.0])|   (3,[1],[1.0])|   (10,[0],[1.0])|(4,[0],[1.0])|       (3,[0],[1.0])|[16.75,0.02483280...|\n",
            "|            17.85|         0.03781972|191.6188|          0|        2475.4444|         9|  (3,[2],[1.0])|   (3,[0],[1.0])|   (10,[5],[1.0])|(4,[0],[1.0])|       (3,[1],[1.0])|[17.85,0.03781972...|\n",
            "|             8.26|        0.032573725| 125.073|          1|          985.384|         4|  (3,[2],[1.0])|   (3,[1],[1.0])|   (10,[3],[1.0])|(4,[2],[1.0])|       (3,[0],[1.0])|[8.26,0.032573725...|\n",
            "|             8.26|        0.032625074| 124.673|          0|         1847.595|         6|  (3,[2],[1.0])|   (3,[1],[1.0])|   (10,[7],[1.0])|(4,[0],[1.0])|       (3,[1],[1.0])|[8.26,0.032625074...|\n",
            "|             5.73|        0.045371855| 86.0882|          0|        1116.5466|        16|  (3,[2],[1.0])|   (3,[0],[1.0])|   (10,[1],[1.0])|(4,[0],[1.0])|       (3,[2],[1.0])|[5.73,0.045371855...|\n",
            "|             13.8|        0.058339153|246.2802|          1|         1228.401|         4|  (3,[2],[1.0])|   (3,[0],[1.0])|   (10,[3],[1.0])|(4,[2],[1.0])|       (3,[0],[1.0])|[13.8,0.058339153...|\n",
            "|             13.0|        0.045239326|174.1054|          0|         4377.635|         6|  (3,[2],[1.0])|   (3,[1],[1.0])|   (10,[7],[1.0])|(4,[0],[1.0])|       (3,[1],[1.0])|[13.0,0.045239326...|\n",
            "|             12.1|        0.061299601| 56.2614|          0|          552.614|        11|  (3,[2],[1.0])|   (3,[1],[1.0])|   (10,[2],[1.0])|(4,[0],[1.0])|       (3,[1],[1.0])|[12.1,0.061299601...|\n",
            "|             15.0|        0.049070183| 61.9168|          0|         767.0016|         9|  (3,[2],[1.0])|   (3,[0],[1.0])|   (10,[5],[1.0])|(4,[0],[1.0])|       (3,[1],[1.0])|[15.0,0.049070183...|\n",
            "+-----------------+-------------------+--------+-----------+-----------------+----------+---------------+----------------+-----------------+-------------+--------------------+--------------------+\n",
            "only showing top 20 rows\n",
            "\n",
            "+-----------+-----------------+---------------+----------------+-----------------+-------------+--------------------+--------------------+\n",
            "|Outlet_Size|Item_Outlet_Sales|Item_Identifier|Item_Fat_Content|Outlet_Identifier|  Outlet_Type|Outlet_Location_Type|     scaled_features|\n",
            "+-----------+-----------------+---------------+----------------+-----------------+-------------+--------------------+--------------------+\n",
            "|          1|         850.8924|  (3,[2],[1.0])|   (3,[0],[1.0])|   (10,[3],[1.0])|(4,[2],[1.0])|       (3,[0],[1.0])|[-0.2936235502929...|\n",
            "|          1|         982.7208|  (3,[2],[1.0])|   (3,[1],[1.0])|   (10,[4],[1.0])|(4,[0],[1.0])|       (3,[2],[1.0])|[1.54023614632880...|\n",
            "|          0|         555.2772|  (3,[2],[1.0])|   (3,[1],[1.0])|   (10,[9],[1.0])|(4,[1],[1.0])|       (3,[2],[1.0])|[-2.5640379624550...|\n",
            "|          0|         185.0924|  (3,[2],[1.0])|   (3,[1],[1.0])|   (10,[8],[1.0])|(4,[1],[1.0])|       (3,[0],[1.0])|[-1.0815916521962...|\n",
            "|          0|          569.259|  (3,[2],[1.0])|   (3,[1],[1.0])|   (10,[5],[1.0])|(4,[0],[1.0])|       (3,[1],[1.0])|[-1.5915229613859...|\n",
            "|          0|        2162.5184|  (3,[2],[1.0])|   (3,[0],[1.0])|   (10,[5],[1.0])|(4,[0],[1.0])|       (3,[1],[1.0])|[-0.9597287175175...|\n",
            "|          2|        2036.6822|  (3,[2],[1.0])|   (3,[0],[1.0])|   (10,[0],[1.0])|(4,[0],[1.0])|       (3,[0],[1.0])|[-0.1279846099529...|\n",
            "|          0|         857.5504|  (3,[2],[1.0])|   (3,[0],[1.0])|   (10,[5],[1.0])|(4,[0],[1.0])|       (3,[1],[1.0])|[-0.1279846099529...|\n",
            "|          0|        2358.2636|  (3,[2],[1.0])|   (3,[0],[1.0])|   (10,[7],[1.0])|(4,[0],[1.0])|       (3,[1],[1.0])|[-0.1279846099529...|\n",
            "|          0|         214.3876|  (3,[2],[1.0])|   (3,[0],[1.0])|   (10,[8],[1.0])|(4,[1],[1.0])|       (3,[0],[1.0])|[-0.1279846099529...|\n",
            "|          0|         353.5398|  (3,[2],[1.0])|   (3,[1],[1.0])|   (10,[1],[1.0])|(4,[0],[1.0])|       (3,[2],[1.0])|[0.92500579649440...|\n",
            "|          2|         667.7974|  (3,[2],[1.0])|   (3,[1],[1.0])|   (10,[0],[1.0])|(4,[0],[1.0])|       (3,[0],[1.0])|[0.92500579649440...|\n",
            "|          0|        2475.4444|  (3,[2],[1.0])|   (3,[0],[1.0])|   (10,[5],[1.0])|(4,[0],[1.0])|       (3,[1],[1.0])|[1.18529555988588...|\n",
            "|          1|          985.384|  (3,[2],[1.0])|   (3,[1],[1.0])|   (10,[3],[1.0])|(4,[2],[1.0])|       (3,[0],[1.0])|[-1.0839579227725...|\n",
            "|          0|         1847.595|  (3,[2],[1.0])|   (3,[1],[1.0])|   (10,[7],[1.0])|(4,[0],[1.0])|       (3,[1],[1.0])|[-1.0839579227725...|\n",
            "|          0|        1116.5466|  (3,[2],[1.0])|   (3,[0],[1.0])|   (10,[1],[1.0])|(4,[0],[1.0])|       (3,[2],[1.0])|[-1.6826243785729...|\n",
            "|          1|         1228.401|  (3,[2],[1.0])|   (3,[0],[1.0])|   (10,[3],[1.0])|(4,[2],[1.0])|       (3,[0],[1.0])|[0.22695597648998...|\n",
            "|          0|         4377.635|  (3,[2],[1.0])|   (3,[1],[1.0])|   (10,[7],[1.0])|(4,[0],[1.0])|       (3,[1],[1.0])|[0.03765433038709...|\n",
            "|          0|          552.614|  (3,[2],[1.0])|   (3,[1],[1.0])|   (10,[2],[1.0])|(4,[0],[1.0])|       (3,[1],[1.0])|[-0.1753100214786...|\n",
            "|          0|         767.0016|  (3,[2],[1.0])|   (3,[0],[1.0])|   (10,[5],[1.0])|(4,[0],[1.0])|       (3,[1],[1.0])|[0.51090844564432...|\n",
            "+-----------+-----------------+---------------+----------------+-----------------+-------------+--------------------+--------------------+\n",
            "only showing top 20 rows\n",
            "\n"
          ]
        }
      ],
      "source": [
        "train_df, test_df = split_dataset('Train.csv')\n",
        "train_df=preprocessing_pipeline(train_df, train=True)\n",
        "test_df=preprocessing_pipeline(test_df, train=False)\n",
        "clusters = sorted(train_df.select(\"Cluster\").distinct().rdd.flatMap(lambda x: x).collect())\n",
        "\n",
        "for cluster_id in clusters:\n",
        "    process_cluster(cluster_id, train_df, test_df)"
      ],
      "id": "3df4051c-ff35-4e13-b557-350611b52d50"
    },
    {
      "cell_type": "code",
      "source": [],
      "metadata": {
        "id": "qYrh03whXmUT"
      },
      "id": "qYrh03whXmUT",
      "execution_count": null,
      "outputs": []
    }
  ],
  "metadata": {
    "colab": {
      "provenance": []
    },
    "kernelspec": {
      "display_name": "Python 3 (ipykernel)",
      "language": "python",
      "name": "python3"
    },
    "language_info": {
      "codemirror_mode": {
        "name": "ipython",
        "version": 3
      },
      "file_extension": ".py",
      "mimetype": "text/x-python",
      "name": "python",
      "nbconvert_exporter": "python",
      "pygments_lexer": "ipython3",
      "version": "3.11.4"
    }
  },
  "nbformat": 4,
  "nbformat_minor": 5
}